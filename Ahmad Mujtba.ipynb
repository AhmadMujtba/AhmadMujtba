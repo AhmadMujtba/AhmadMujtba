{
 "cells": [
  {
   "cell_type": "markdown",
   "metadata": {},
   "source": [
    "**Task 1**"
   ]
  },
  {
   "cell_type": "code",
   "execution_count": 3,
   "metadata": {},
   "outputs": [
    {
     "name": "stdout",
     "output_type": "stream",
     "text": [
      "Trump votes: 935\n",
      "Kamala votes: 800\n"
     ]
    }
   ],
   "source": [
    "trump_votes = 934\n",
    "kamala_votes = 800\n",
    "\n",
    "def show_votes():\n",
    "    print(f\"Trump votes: {trump_votes}\\nKamala votes: {kamala_votes}\")\n",
    "    \n",
    "vote = input(\"\\t1.Donald Trump\\n\\t2.Kamala Haris\\nWho do you want to vote for:\")\n",
    "vote = int(vote)\n",
    "\n",
    "if vote == 1:\n",
    "    trump_votes+=1\n",
    "    show_votes()\n",
    "elif vote == 2:\n",
    "    kamala_votes+=1\n",
    "    show_votes()\n",
    "else:\n",
    "    print(\"Invalid choice\")"
   ]
  },
  {
   "cell_type": "markdown",
   "metadata": {},
   "source": [
    "**Task 2**"
   ]
  },
  {
   "cell_type": "code",
   "execution_count": 4,
   "metadata": {},
   "outputs": [
    {
     "name": "stdout",
     "output_type": "stream",
     "text": [
      "emordnilap\n"
     ]
    }
   ],
   "source": [
    "def reverse_string(s):\n",
    "    return s[::-1]\n",
    "\n",
    "print(reverse_string(\"palindrome\"))"
   ]
  },
  {
   "cell_type": "markdown",
   "metadata": {},
   "source": [
    "**Task 3**"
   ]
  },
  {
   "cell_type": "code",
   "execution_count": 5,
   "metadata": {},
   "outputs": [
    {
     "name": "stdout",
     "output_type": "stream",
     "text": [
      "acegi\n"
     ]
    }
   ],
   "source": [
    "def odd_indexes(s):\n",
    "    return s[::2]\n",
    "\n",
    "print(odd_indexes(\"abcdefghij\"))"
   ]
  },
  {
   "cell_type": "markdown",
   "metadata": {},
   "source": [
    "**Task 4**"
   ]
  },
  {
   "cell_type": "code",
   "execution_count": 6,
   "metadata": {},
   "outputs": [
    {
     "name": "stdout",
     "output_type": "stream",
     "text": [
      "[0, 1, 2, 3, 4, 5, 7, 8, 9, 10, 11]\n"
     ]
    }
   ],
   "source": [
    "def remove_duplicates(lst):\n",
    "    new_lst = []\n",
    "    for x in lst:\n",
    "        if x not in new_lst:\n",
    "            new_lst.append(x)\n",
    "        else:\n",
    "            new_lst=new_lst\n",
    "    \n",
    "    return new_lst\n",
    "\n",
    "my_lst = remove_duplicates([0,1,1,2,3,4,5,5,7,8,9,9,10,11])\n",
    "print(my_lst)\n",
    "    "
   ]
  },
  {
   "cell_type": "markdown",
   "metadata": {},
   "source": [
    "**Task 5**"
   ]
  },
  {
   "cell_type": "code",
   "execution_count": 7,
   "metadata": {},
   "outputs": [
    {
     "name": "stdout",
     "output_type": "stream",
     "text": [
      "{2, 4}\n"
     ]
    }
   ],
   "source": [
    "def intersection_of_sets(s1,s2):\n",
    "    common = s1 & s2\n",
    "    return common\n",
    "\n",
    "intersection = intersection_of_sets({1,2,3,4,5},{0,2,4,6})\n",
    "print(intersection)\n"
   ]
  },
  {
   "cell_type": "markdown",
   "metadata": {},
   "source": [
    "**Task 6**"
   ]
  },
  {
   "cell_type": "code",
   "execution_count": null,
   "metadata": {},
   "outputs": [],
   "source": [
    "def sort_dict_by_marks(input_dict):\n",
    "\n",
    "    it = list(input_dict.items())\n",
    "    for i in range(len(it)):\n",
    "        min_index = i\n",
    "        for j in range(i+1, len(it)):\n",
    "            if it[j][1] < it[min_index][1]:\n",
    "                min_index = j\n",
    "        it[i],it[min_index] = it[min_index],it[i]\n",
    "\n",
    "    sorted_dict = dict(it)\n",
    "    return sorted_dict\n",
    "\n",
    "marks_dict = {\n",
    "    'Ali':85,\n",
    "    'Chaudhary':78,\n",
    "    'Daud':92\n",
    "}\n",
    "\n",
    "sorted_marks_dict = sort_dict_by_marks(marks_dict)\n",
    "print(sorted_marks_dict)"
   ]
  },
  {
   "cell_type": "markdown",
   "metadata": {},
   "source": [
    "**Task 7**"
   ]
  },
  {
   "cell_type": "code",
   "execution_count": 14,
   "metadata": {},
   "outputs": [
    {
     "name": "stdout",
     "output_type": "stream",
     "text": [
      "The product of 4.0 and 7.0 is 28.0\n"
     ]
    }
   ],
   "source": [
    "while True:\n",
    "    try:\n",
    "        num1 = float(input(\"Enter the first number: \"))\n",
    "        num2 = float(input(\"Enter the second number: \"))\n",
    "        break\n",
    "    except ValueError:\n",
    "        print(\"Invalid input. Please enter numbers only.\")\n",
    "\n",
    "product = num1 * num2\n",
    "print(\"The product of\", num1, \"and\", num2, \"is\", product)"
   ]
  }
 ],
 "metadata": {
  "kernelspec": {
   "display_name": "Python 3",
   "language": "python",
   "name": "python3"
  },
  "language_info": {
   "codemirror_mode": {
    "name": "ipython",
    "version": 3
   },
   "file_extension": ".py",
   "mimetype": "text/x-python",
   "name": "python",
   "nbconvert_exporter": "python",
   "pygments_lexer": "ipython3",
   "version": "3.12.4"
  }
 },
 "nbformat": 4,
 "nbformat_minor": 2
}
